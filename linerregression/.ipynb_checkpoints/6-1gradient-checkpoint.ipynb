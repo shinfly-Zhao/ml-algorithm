{
 "cells": [
  {
   "cell_type": "markdown",
   "metadata": {},
   "source": [
    "梯度下降法模拟"
   ]
  },
  {
   "cell_type": "code",
   "execution_count": 1,
   "metadata": {},
   "outputs": [],
   "source": [
    "import numpy as np \n",
    "import matplotlib.pyplot as plt"
   ]
  },
  {
   "cell_type": "code",
   "execution_count": 6,
   "metadata": {},
   "outputs": [],
   "source": [
    "plot_x = np.linspace(-1,6,141)  # 随机生成141个随机数\n",
    "plot_y = (plot_x - 2.5) ** 2 -1  # 模拟损失函数"
   ]
  },
  {
   "cell_type": "code",
   "execution_count": 8,
   "metadata": {},
   "outputs": [
    {
     "data": {
      "image/png": "[encoded data removed]",
      "text/plain": [
       "<Figure size 432x288 with 1 Axes>"
      ]
     },
     "metadata": {
      "needs_background": "light"
     },
     "output_type": "display_data"
    }
   ],
   "source": [
    "plt.plot(plot_x,plot_y)\n",
    "plt.show()"
   ]
  },
  {
   "cell_type": "code",
   "execution_count": 29,
   "metadata": {},
   "outputs": [],
   "source": [
    "# 梯度下降法求最优解\n",
    "def dJ(theta):\n",
    "    return 2*(theta-2.5)\n",
    "# 计算损失函数的结果值\n",
    "def J(theta):\n",
    "    return (theta - 2.5) ** 2 -1"
   ]
  },
  {
   "cell_type": "code",
   "execution_count": 30,
   "metadata": {},
   "outputs": [
    {
     "name": "stdout",
     "output_type": "stream",
     "text": [
      "2.499891109642585\n",
      "-0.99999998814289\n"
     ]
    }
   ],
   "source": [
    "theta = 0.0 # 初始值\n",
    "eta = 0.1 # 学习率\n",
    "epsilon = 1e-8\n",
    "while True:\n",
    "    gradient = dJ(theta)\n",
    "    last_theta = theta\n",
    "    theta = theta - eta*gradient\n",
    "    if (abs(J(theta) - J(last_theta))< epsilon):\n",
    "        break\n",
    "print(theta)\n",
    "print(J(theta))\n",
    "    "
   ]
  },
  {
   "cell_type": "code",
   "execution_count": 38,
   "metadata": {},
   "outputs": [],
   "source": [
    "thetaList = []\n",
    "def gradient_descent(initial_theta,eta,epsilon = 1e-8):\n",
    "    \"\"\"\n",
    "    theta # 初始值\n",
    "    eta   # 学习率\n",
    "    \"\"\"\n",
    "    theta = initial_theta\n",
    "    thetaList = [theta]\n",
    "    epsilon = 1e-8\n",
    "    while True:\n",
    "        gradient = dJ(theta)\n",
    "        last_theta = theta\n",
    "        thetaList.append(theta)\n",
    "        theta = theta - eta*gradient\n",
    "        if (abs(J(theta) - J(last_theta))< epsilon):\n",
    "            break\n",
    "def plot_theta_history():\n",
    "    # 绘制过程 \n",
    "    plt.plot(plot_x,J(plot_x))\n",
    "    plt.plot(np.array(thetaList),J(np.array(thetaList)),color=\"red\",marker=\"+\")\n",
    "    plt.show()"
   ]
  },
  {
   "cell_type": "code",
   "execution_count": null,
   "metadata": {},
   "outputs": [],
   "source": []
  }
 ],
 "metadata": {
  "kernelspec": {
   "display_name": "Python 3",
   "language": "python",
   "name": "python3"
  },
  "language_info": {
   "codemirror_mode": {
    "name": "ipython",
    "version": 3
   },
   "file_extension": ".py",
   "mimetype": "text/x-python",
   "name": "python",
   "nbconvert_exporter": "python",
   "pygments_lexer": "ipython3",
   "version": "3.7.1"
  }
 },
 "nbformat": 4,
 "nbformat_minor": 2
}
