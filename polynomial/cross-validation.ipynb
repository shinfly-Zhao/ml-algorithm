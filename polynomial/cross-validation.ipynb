{
 "cells": [
  {
   "cell_type": "markdown",
   "metadata": {},
   "source": [
    "### 交叉验证"
   ]
  },
  {
   "cell_type": "code",
   "execution_count": 2,
   "metadata": {},
   "outputs": [],
   "source": [
    "import numpy as np \n",
    "import matplotlib.pyplot as plt\n",
    "from sklearn import datasets\n"
   ]
  },
  {
   "cell_type": "code",
   "execution_count": 4,
   "metadata": {},
   "outputs": [],
   "source": [
    "digits = datasets.load_digits()\n",
    "X = digits.data\n",
    "y = digits.target"
   ]
  },
  {
   "cell_type": "code",
   "execution_count": 6,
   "metadata": {},
   "outputs": [],
   "source": [
    "# 使用一般的进行测试 寻找最好的超惨数\n",
    "from sklearn.model_selection import train_test_split\n",
    "from sklearn.neighbors import KNeighborsClassifier\n",
    "X_train,X_test,y_train,y_test = train_test_split(X,y)"
   ]
  },
  {
   "cell_type": "code",
   "execution_count": 7,
   "metadata": {},
   "outputs": [],
   "source": [
    "bestscore ,bestp,bestk =  0,0,0\n",
    "for k in range(2,11):\n",
    "    for p in range(1,5):\n",
    "        knn_cls = KNeighborsClassifier(weights=\"distance\",n_neighbors=k,p=p)\n",
    "        knn_cls.fit(X_train,y_train)\n",
    "        score = knn_cls.score(X_test,y_test)\n",
    "        if score > bestscore:\n",
    "            bestscore =score\n",
    "            bestp = p\n",
    "            bestk = k"
   ]
  },
  {
   "cell_type": "code",
   "execution_count": 8,
   "metadata": {},
   "outputs": [
    {
     "name": "stdout",
     "output_type": "stream",
     "text": [
      "0.9933333333333333\n",
      "2\n",
      "2\n"
     ]
    }
   ],
   "source": [
    "print(bestscore)\n",
    "print(bestk)\n",
    "print(bestp)"
   ]
  },
  {
   "cell_type": "code",
   "execution_count": 9,
   "metadata": {},
   "outputs": [
    {
     "name": "stderr",
     "output_type": "stream",
     "text": [
      "/usr/software/anaconda3/lib/python3.7/site-packages/sklearn/model_selection/_split.py:2053: FutureWarning: You should specify a value for 'cv' instead of relying on the default value. The default value will change from 3 to 5 in version 0.22.\n",
      "  warnings.warn(CV_WARNING, FutureWarning)\n"
     ]
    },
    {
     "data": {
      "text/plain": [
       "array([0.97797357, 0.98210291, 0.97757848])"
      ]
     },
     "execution_count": 9,
     "metadata": {},
     "output_type": "execute_result"
    }
   ],
   "source": [
    "# 使用交叉验证\n",
    "from sklearn.model_selection import cross_val_score\n",
    "knn_clf = KNeighborsClassifier()\n",
    "cross_val_score(knn_clf,X_train,y_train)"
   ]
  },
  {
   "cell_type": "code",
   "execution_count": 15,
   "metadata": {},
   "outputs": [
    {
     "name": "stdout",
     "output_type": "stream",
     "text": [
      "0.9866114682636437\n",
      "2\n",
      "3\n"
     ]
    }
   ],
   "source": [
    "bestscore ,bestp,bestk =  0,0,0\n",
    "for k in range(2,11):\n",
    "    for p in range(1,5):\n",
    "        knn_cls = KNeighborsClassifier(weights=\"distance\",n_neighbors=k,p=p)\n",
    "        scores = cross_val_score(knn_cls,X_train,y_train,cv=3)\n",
    "        score = np.mean(scores)\n",
    "      \n",
    "        if score > bestscore:\n",
    "            bestscore =score\n",
    "            bestp = p\n",
    "            bestk = k\n",
    "print(bestscore)\n",
    "print(bestk)\n",
    "print(bestp)"
   ]
  },
  {
   "cell_type": "code",
   "execution_count": 16,
   "metadata": {},
   "outputs": [
    {
     "data": {
      "text/plain": [
       "KNeighborsClassifier(algorithm='auto', leaf_size=30, metric='minkowski',\n",
       "           metric_params=None, n_jobs=None, n_neighbors=2, p=3,\n",
       "           weights='distance')"
      ]
     },
     "execution_count": 16,
     "metadata": {},
     "output_type": "execute_result"
    }
   ],
   "source": [
    "# 通过交叉验证后得到超参数 \n",
    "knn = KNeighborsClassifier(n_neighbors=2,p=3,weights=\"distance\")\n",
    "knn.fit(X_train,y_train)"
   ]
  },
  {
   "cell_type": "code",
   "execution_count": 17,
   "metadata": {},
   "outputs": [
    {
     "data": {
      "text/plain": [
       "0.9888888888888889"
      ]
     },
     "execution_count": 17,
     "metadata": {},
     "output_type": "execute_result"
    }
   ],
   "source": [
    "knn.score(X_test,y_test)  # 最终的准确率"
   ]
  },
  {
   "cell_type": "code",
   "execution_count": null,
   "metadata": {},
   "outputs": [],
   "source": [
    "# 极端情况下 留一法 Loo-cv  Leave One Out Cross Validation\n",
    "# 训练数据集总共m个样本分成m份进行模型训练。每次将m-1份进行训练，这样做完全不受随机的影响，最接近模型真正的性能指标 (计算量巨大)"
   ]
  }
 ],
 "metadata": {
  "kernelspec": {
   "display_name": "Python 3",
   "language": "python",
   "name": "python3"
  },
  "language_info": {
   "codemirror_mode": {
    "name": "ipython",
    "version": 3
   },
   "file_extension": ".py",
   "mimetype": "text/x-python",
   "name": "python",
   "nbconvert_exporter": "python",
   "pygments_lexer": "ipython3",
   "version": "3.7.1"
  }
 },
 "nbformat": 4,
 "nbformat_minor": 2
}
